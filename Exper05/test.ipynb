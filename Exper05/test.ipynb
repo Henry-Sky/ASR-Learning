{
 "cells": [
  {
   "cell_type": "code",
   "execution_count": 76,
   "metadata": {},
   "outputs": [
    {
     "name": "stdout",
     "output_type": "stream",
     "text": [
      "torch.Size([3891, 20, 100])\n",
      "torch.Size([3891, 10])\n"
     ]
    }
   ],
   "source": [
    "import os\n",
    "import torch\n",
    "import librosa\n",
    "import numpy as np\n",
    "from torch.nn.functional import one_hot\n",
    "\n",
    "\n",
    "features = []\n",
    "labels = []\n",
    "files = os.listdir(\"./data/recordings/\")\n",
    "# 读取文件 features: 经过mfcc处理的音频特征, labels: 每个音频的特征标签\n",
    "for file in files:\n",
    "    wave, sr = librosa.load(\"./data/recordings/\"+file)\n",
    "    mfcced_wave = librosa.feature.mfcc(y=wave, sr=sr)\n",
    "    mfcced_wave = np.pad(mfcced_wave, ((0,0),(0,100-mfcced_wave.shape[1])),\n",
    "                        mode='constant', constant_values=0)\n",
    "    features.append(mfcced_wave)\n",
    "    labels.append(int(file[0]))\n",
    "\n",
    "# 数据读取到CUDA\n",
    "features = torch.tensor(features).cuda()\n",
    "labels = torch.tensor(labels).cuda()\n",
    "\n",
    "# 对特征进行归一化, 对标签转换独热编码\n",
    "mean_features = torch.mean(features, dim=2)\n",
    "std_features = torch.std(features, dim=2)\n",
    "features = features.sub_(mean_features[:,:,None]).div_(std_features[:,:,None])\n",
    "labels = one_hot(labels, 10)\n",
    "\n",
    "print(features.shape)\n",
    "print(labels.shape)\n"
   ]
  },
  {
   "cell_type": "code",
   "execution_count": 77,
   "metadata": {},
   "outputs": [],
   "source": [
    "class CNNConfig():\n",
    "    data_dims = 100\n",
    "    filter_sizes = [2, 3, 4, 5]\n",
    "    num_filters = 64\n",
    "    num_classes = 10\n",
    "    hidden_dim = 256\n",
    "    keep_prob = 0.7"
   ]
  },
  {
   "cell_type": "code",
   "execution_count": 81,
   "metadata": {},
   "outputs": [],
   "source": [
    "import torch.nn as nn\n",
    "import torch.nn.functional as func\n",
    "\n",
    "class ASRCNN(nn.Module):\n",
    "    def __init__(self,config):\n",
    "        super(ASRCNN, self).__init__()\n",
    "\n",
    "        # 卷积层定义\n",
    "        self.conv_layers = nn.ModuleList([\n",
    "            nn.Conv1d(in_channels=config.data_dims,\n",
    "                      out_channels=config.num_filters,\n",
    "                      kernel_size=filter_size)\n",
    "                      for filter_size in config.filter_sizes\n",
    "        ])\n",
    "\n",
    "        # 池化层定义\n",
    "        self.maxpool = nn.AdaptiveMaxPool1d(1)\n",
    "\n",
    "        # 全连接层定义\n",
    "        self.num_filters_total = config.num_filters * len(config.filter_sizes)\n",
    "        self.fc1 = nn.Linear(self.num_filters_total, config.hidden_dim)\n",
    "        self.fc2 = nn.Linear(config.hidden_dim, config.num_classes)\n",
    "\n",
    "        # 神经元保留概率\n",
    "        self.keep_prob = config.keep_prob\n",
    "\n",
    "        # 初始化参数\n",
    "        self.init_weights()\n",
    "    \n",
    "    def init_weights(self):\n",
    "        for conv_layer in self.conv_layers:\n",
    "            nn.init.xavier_uniform_(conv_layer.weight)\n",
    "\n",
    "        nn.init.xavier_uniform_(self.fc1.weight)\n",
    "        nn.init.xavier_uniform_(self.fc2.weight)\n",
    "        \n",
    "    def forward(self, x):\n",
    "        x = x.permute(0, 2, 1)\n",
    "        # 卷积操作\n",
    "        conved_x_list = [func.relu(conv(x)) for conv in self.conv_layers]\n",
    "        # 池化操作\n",
    "        pooled_x_list = [self.maxpool(conved_x) for conved_x in conved_x_list]\n",
    "\n",
    "        conned_x = torch.cat(pooled_x_list, dim=1)\n",
    "        conned_x = conned_x.view(-1,self.num_filters_total)\n",
    "\n",
    "        fc_x = func.relu(self.fc1(conned_x))\n",
    "        fc_x = func.dropout(fc_x, self.keep_prob)\n",
    "\n",
    "        outs = func.softmax(self.fc2(fc_x), dim=1)\n",
    "\n",
    "        return outs\n",
    "        "
   ]
  },
  {
   "cell_type": "code",
   "execution_count": 82,
   "metadata": {},
   "outputs": [
    {
     "name": "stdout",
     "output_type": "stream",
     "text": [
      "torch.Size([3891, 10])\n"
     ]
    }
   ],
   "source": [
    "config = CNNConfig()\n",
    "model = ASRCNN(config).cuda()\n",
    "out = model.forward(features)\n",
    "print(out.shape)"
   ]
  }
 ],
 "metadata": {
  "kernelspec": {
   "display_name": "classic",
   "language": "python",
   "name": "python3"
  },
  "language_info": {
   "codemirror_mode": {
    "name": "ipython",
    "version": 3
   },
   "file_extension": ".py",
   "mimetype": "text/x-python",
   "name": "python",
   "nbconvert_exporter": "python",
   "pygments_lexer": "ipython3",
   "version": "3.10.13"
  }
 },
 "nbformat": 4,
 "nbformat_minor": 2
}
