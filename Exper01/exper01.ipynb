{
 "cells": [
  {
   "cell_type": "markdown",
   "metadata": {},
   "source": [
    "# 一, 时域与频域分析\n",
    "\n",
    "1. **时间域分析(Time Domain Analysis)**：\n",
    "   - 时间域分析关注声音信号在时间上的变化。它包括对语音波形的振幅随时间的变化进行分析，通常以采样点或时间单位来表示。\n",
    "   - 时间域分析用于检测语音信号中的基本音素、语速、音调、音强度等信息。\n",
    "   \n",
    "\n",
    "2. **频率域分析(Frequency Domain Analysis)**：\n",
    "   - 频率域分析关注声音信号在频域上的特性，即声音信号中包含的不同频率成分。\n",
    "   - 傅里叶变换是常用的频率域分析工具，它将声音信号从时间域转换为频率域，提供频谱信息。\n",
    "   - 频率域分析用于分析语音信号的共振峰、谐波结构、频谱包络以及声音中的特定频率成分。\n"
   ]
  },
  {
   "cell_type": "code",
   "execution_count": null,
   "metadata": {},
   "outputs": [],
   "source": [
    "import wave\n",
    "import numpy as np\n",
    "from scipy import fft\n",
    "\n",
    "# 读取音频文件\n",
    "def read_wave(file_path):\n",
    "    with wave.open(file_path, \"rb\") as file:\n",
    "        # 获取音频文件的参数信息\n",
    "        params = file.getparams()\n",
    "        nchannels, sampwidth, framerate, nframes = params[:4]\n",
    "        # 读取所有帧的音频数据并将其转换为numpy数组\n",
    "        wave_data = np.frombuffer(file.readframes(nframes), dtype=np.int16)\n",
    "    wave_data = wave_data.reshape(-1,nchannels).T\n",
    "    time_table = np.arange(0, nframes) * (1.0/framerate)\n",
    "    return wave_data, time_table\n",
    "\n",
    "# 快速傅里叶变换\n",
    "def wave_fft(wave_data, time_table, time_range=(-1,-1), inverse=False):\n",
    "    assert(len(time_range) == 2)\n",
    "    time_start, time_end = time_range if time_range != (-1,-1) else (0, time_table[-1])\n",
    "    selected_indices = np.where((time_table >= time_start) & (time_table <= time_end))[0]\n",
    "    fft_time = time_table[selected_indices]\n",
    "    if not inverse:\n",
    "        fft_data = fft.fft(wave_data[:, selected_indices], axis=1)\n",
    "    else:\n",
    "        fft_data = fft.ifft(wave_data[:, selected_indices], axis=1)\n",
    "    return fft_data, fft_time"
   ]
  },
  {
   "cell_type": "code",
   "execution_count": null,
   "metadata": {},
   "outputs": [],
   "source": [
    "import matplotlib.pyplot as plt\n",
    "\n",
    "wave_data, time_table = read_wave(\"./data/audio_1.wav\")\n",
    "\n",
    "for i in range(wave_data.shape[0]):\n",
    "    plt.figure()\n",
    "    plt.plot(time_table, wave_data[i])\n",
    "\n",
    "fft_wave_data, fft_time_table = wave_fft(wave_data, time_table)\n",
    "\n",
    "for i in range(fft_wave_data.shape[0]):\n",
    "    plt.figure()\n",
    "    plt.plot(fft_time_table, fft_wave_data[i])\n",
    "\n",
    "ifft_wave_data, ifft_time_table = wave_fft(fft_wave_data, fft_time_table, inverse=True)\n",
    "\n",
    "for i in range(ifft_wave_data.shape[0]):\n",
    "    plt.figure()\n",
    "    plt.plot(ifft_time_table, ifft_wave_data[i])"
   ]
  }
 ],
 "metadata": {
  "kernelspec": {
   "display_name": "deeplearn",
   "language": "python",
   "name": "python3"
  },
  "language_info": {
   "codemirror_mode": {
    "name": "ipython",
    "version": 3
   },
   "file_extension": ".py",
   "mimetype": "text/x-python",
   "name": "python",
   "nbconvert_exporter": "python",
   "pygments_lexer": "ipython3",
   "version": "3.10.13"
  }
 },
 "nbformat": 4,
 "nbformat_minor": 2
}
