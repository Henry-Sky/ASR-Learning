{
 "cells": [
  {
   "cell_type": "markdown",
   "metadata": {},
   "source": [
    "1. 频率域语音信号-音频折线图\n",
    "2. 用普减法对音频数据增强"
   ]
  },
  {
   "cell_type": "code",
   "execution_count": 32,
   "metadata": {},
   "outputs": [
    {
     "name": "stdout",
     "output_type": "stream",
     "text": [
      "音频数据: [[ 22  19 -11 ...  55  49  36]]\n",
      "音频长度: (1, 190224)\n",
      "时间长度: (190224,)\n"
     ]
    }
   ],
   "source": [
    "import sys \n",
    "sys.path.append(\"..\") \n",
    "from Func import ASRfunc\n",
    "\n",
    "# 读取数据\n",
    "\n",
    "wave_data, time_table = ASRfunc.read_wave(\"./data/enhance_speach_input_file.wav\")\n",
    "\n",
    "print(\n",
    "    \"音频数据: {}\\n\".format(wave_data)+\n",
    "    \"音频长度: {}\\n\".format(wave_data.shape)+\n",
    "    \"时间长度: {}\".format(time_table.shape)\n",
    ")"
   ]
  },
  {
   "cell_type": "code",
   "execution_count": 2,
   "metadata": {},
   "outputs": [],
   "source": [
    "import numpy as np\n",
    "\n",
    "def normalize_audio_data(data):\n",
    "    \"\"\"\n",
    "    对音频数据进行归一化\n",
    "\n",
    "    Parameters:\n",
    "    - data: 二维音频数组(channels, samples).\n",
    "\n",
    "    Returns:\n",
    "    - normalized_data: 归一化后的音频数据.\n",
    "    \"\"\"\n",
    "    \n",
    "    data_array = np.array(data)\n",
    "    # 对每个通道找最大绝对值\n",
    "    max_abs_values = np.max(np.abs(data_array), axis=1, keepdims=True)\n",
    "    # 避免除0的情况\n",
    "    max_abs_values[max_abs_values == 0] = 1\n",
    "    # 归一化\n",
    "    normalized_data = data_array / max_abs_values\n",
    "    return normalized_data"
   ]
  },
  {
   "cell_type": "code",
   "execution_count": 33,
   "metadata": {},
   "outputs": [
    {
     "data": {
      "image/png": "[encoded data removed]",
      "text/plain": [
       "<Figure size 640x480 with 1 Axes>"
      ]
     },
     "metadata": {},
     "output_type": "display_data"
    }
   ],
   "source": [
    "# 音频折线图\n",
    "import matplotlib.pyplot as plt\n",
    "# 归一化输入语音\n",
    "normalized_data = normalize_audio_data(wave_data)\n",
    "plt.figure()\n",
    "plt.plot(time_table, normalized_data[0], c=\"y\")\n",
    "plt.xlabel(\"time(seconds)\")\n",
    "plt.ylabel(\"amplitude\")\n",
    "plt.title(\"Original wave\")\n",
    "plt.show()"
   ]
  },
  {
   "cell_type": "markdown",
   "metadata": {},
   "source": [
    "默认混合信号(含噪信号)的前几帧仅包含环境噪声，并利用混合信号的前几帧的平均幅度谱或者能量谱作为估计到一帧噪声的幅度谱或者能量谱。  \n",
    "最后利用混合信号(含噪信号)的幅度谱或者能量谱与估计到的幅度谱与能量谱相减，得到估计到的干净信号的幅度谱或者能量谱。"
   ]
  },
  {
   "cell_type": "code",
   "execution_count": null,
   "metadata": {},
   "outputs": [],
   "source": [
    "import struct\n",
    "\n",
    "def nextpow2(x):\n",
    "    if x < 0:\n",
    "        x = -x\n",
    "    if x == 0:\n",
    "        return 0\n",
    "    \n",
    "    # 将浮点数打包成字节\n",
    "    packed_float = struct.pack('f', x)\n",
    "    \n",
    "    # 从字节中解包成整数\n",
    "    bits = struct.unpack('I', packed_float)[0]\n",
    "    \n",
    "    # 提取符号位、指数和尾数\n",
    "    S = (bits >> 31) & 0x01\n",
    "    E = (bits >> 23) & 0xFF\n",
    "    M = bits & 0x7FFFFF\n",
    "    \n",
    "    if M == 0:\n",
    "        return E - 127\n",
    "    return E - 127 + 1"
   ]
  },
  {
   "cell_type": "code",
   "execution_count": 9,
   "metadata": {},
   "outputs": [
    {
     "name": "stdout",
     "output_type": "stream",
     "text": [
      "320\n",
      "320\n"
     ]
    }
   ],
   "source": [
    "# 谱减法\n",
    "\n",
    "import numpy as np\n",
    "import ctypes as ct\n",
    "import math\n",
    "\n",
    "framerate = 1.0 / np.mean(np.diff(time_table))\n",
    "\n",
    "# 自定义函数\n",
    "# 声明了两个C语言类FloatBits 和 Float\n",
    "class FloatBits(ct.Structure):\n",
    "    _fields_ = [\n",
    "        ('M', ct.c_uint, 23),\n",
    "        ('E', ct.c_uint, 8),\n",
    "        ('S', ct.c_uint, 1)\n",
    "    ]\n",
    "\n",
    "class Float(ct.Union):\n",
    "    _anonymous_ = ('bits',)\n",
    "    _fields_ = [\n",
    "        ('value', ct.c_float),\n",
    "        ('bits', FloatBits)\n",
    "    ]\n",
    "\n",
    "def nextpow2(x):\n",
    "    if x < 0:\n",
    "        x = -x\n",
    "    if x == 0:\n",
    "        return 0\n",
    "    d = Float()\n",
    "    d.value = x\n",
    "    if d.M == 0:\n",
    "        return d.E - 127\n",
    "    return d.E - 127 + 1   \n",
    "\n",
    "# 计算参数\n",
    "len_ = int(20  framerate // 1000) # 样本中的帧长度\n",
    "# 20ms对应的采样数对应的帧长度作为一个计算的基本单位\n",
    "PERC = 50 # 窗口重叠占帧的百分比\n",
    "len1 = len_  PERC // 100  # 重叠窗口\n",
    "len2 = len_ - len1   # 非重叠窗口\n",
    "\n",
    "# 设置默认参数\n",
    "Thres = 3 # 信噪比阈值\n",
    "Expnt = 2.0\n",
    "beta = 0.002\n",
    "G = 0.9\n",
    "\n",
    "# 初始化汉明窗\n",
    "win = np.hamming(len_)\n",
    "print(len(win))"
   ]
  },
  {
   "cell_type": "markdown",
   "metadata": {},
   "source": [
    "Hamming 窗口函数数学定义如下：\n",
    "\n",
    "$$ w(n) = 0.54 - 0.46 \\cos\\left(\\frac{2\\pi n}{N-1}\\right) $$\n",
    "\n",
    "\n",
    "其中：\n",
    "- w(n) 是窗口在位置 n 处的值。\n",
    "- N 是窗口的长度。\n"
   ]
  },
  {
   "cell_type": "code",
   "execution_count": 14,
   "metadata": {},
   "outputs": [
    {
     "name": "stdout",
     "output_type": "stream",
     "text": [
      "0.9283973540675416\n",
      "320\n",
      "9\n",
      "1024\n"
     ]
    }
   ],
   "source": [
    "# normalization gain for overlap+add with 50% overlap\n",
    "# 归一化因子\n",
    "winGain = len2 / sum(win)\n",
    "print(winGain)\n",
    "\n",
    "# 噪声幅度计算，假设前5帧为silence帧\n",
    "\"\"\"\n",
    "nFFT 为包含'当前帧长度'的一个'最小特定帧长度'(该特定帧长度可以方便傅里叶变换) \n",
    "nextpow2: 用于计算最小特定帧长度\n",
    "\n",
    "关于傅里叶变换的补充:\n",
    "傅里叶变换的性质要求输入信号的长度是2的幂次。\n",
    "因此, nextpow2(len_) 计算出比 len_ 大的下一个2的幂。\n",
    "将其乘以2可以确保有足够的频谱采样点, 使得频谱上的分辨率更高。\n",
    "\"\"\"\n",
    "print(len_)\n",
    "print(nextpow2(len_))\n",
    "nFFT = 2  2  (nextpow2(len_)) # 多乘一个 2 是为了超采样\n",
    "print(nFFT)\n",
    "noise_mean = np.zeros(nFFT)"
   ]
  },
  {
   "cell_type": "code",
   "execution_count": 20,
   "metadata": {},
   "outputs": [
    {
     "name": "stdout",
     "output_type": "stream",
     "text": [
      "1024\n"
     ]
    }
   ],
   "source": [
    "# 计算噪声的频谱均值\n",
    "\"\"\"\n",
    "假定前5帧为噪声, 计算前5帧的频谱均值\n",
    "\"\"\"\n",
    "j = 0\n",
    "for k in range(1, 6):\n",
    "    noise_mean = noise_mean + abs(np.fft.fft(win  wave_data[0][j:j + len_], nFFT))\n",
    "    j = j + len_\n",
    "noise_mu = noise_mean / 5\n",
    "\n",
    "print(len(noise_mu))"
   ]
  },
  {
   "cell_type": "code",
   "execution_count": 26,
   "metadata": {},
   "outputs": [
    {
     "name": "stdout",
     "output_type": "stream",
     "text": [
      "(320,)\n",
      "(1024,)\n",
      "(1024,)\n"
     ]
    }
   ],
   "source": [
    "insign = win  wave_data[0][0:len_]\n",
    "print(insign.shape)\n",
    "spec = np.fft.fft(insign, nFFT)\n",
    "print(spec.shape)\n",
    "# 计算幅值\n",
    "sig = abs(spec)\n",
    "print(sig.shape)\n",
    "theta = np.angle(spec)"
   ]
  },
  {
   "cell_type": "code",
   "execution_count": 27,
   "metadata": {},
   "outputs": [],
   "source": [
    "# 分配内存并初始化变量a\n",
    "k = 1\n",
    "img = 1j\n",
    "x_old = np.zeros(len1)\n",
    "Nframes = len(wave_data[0]) // len2 - 1\n",
    "xfinal = np.zeros(Nframes  len2)\n",
    "\n",
    "# 谱减法 \n",
    "# 根据公式求出每一帧的去噪后的幅值sub_speech\n",
    "for n in range(0, Nframes):\n",
    "    # 一个窗口内(一个单位帧长度内:len_)的数据\n",
    "    # win 是汉明窗口权值\n",
    "    insign = win  wave_data[0][k-1:k + len_ - 1]\n",
    "    # FFT变换\n",
    "    spec = np.fft.fft(insign, nFFT)\n",
    "    # 计算幅值\n",
    "    sig = abs(spec)\n",
    "\n",
    "    # 计算相值\n",
    "    theta = np.angle(spec)\n",
    "    # 带噪信号峰值信噪比\n",
    "    SNRseg = 10  np.log10(np.linalg.norm(sig, 2)  2 / np.linalg.norm(noise_mu, 2)  2)\n",
    "\n",
    "\n",
    "    def berouti(SNR):\n",
    "        if -5.0 <= SNR <= 20.0:\n",
    "            a = 4 - SNR  3 / 20\n",
    "        else:\n",
    "            if SNR < -5.0:\n",
    "                a = 5\n",
    "            if SNR > 20:\n",
    "                a = 1\n",
    "        return a\n",
    "\n",
    "\n",
    "    def berouti1(SNR):\n",
    "        if -5.0 <= SNR <= 20.0:\n",
    "            a = 3 - SNR  2 / 20\n",
    "        else:\n",
    "            if SNR < -5.0:\n",
    "                a = 4\n",
    "            if SNR > 20:\n",
    "                a = 1\n",
    "        return a\n",
    "\n",
    "    if Expnt == 1.0:  # 幅度谱\n",
    "        alpha = berouti1(SNRseg)\n",
    "    else:  # 功率谱\n",
    "        alpha = berouti(SNRseg)\n",
    "    # 纯净信号 = 带噪信号 - 噪声信号\n",
    "    sub_speech = sig  Expnt - alpha  noise_mu  Expnt;\n",
    "    # 当纯净信号小于噪声信号的功率时，求差值\n",
    "    diffw = sub_speech - beta  noise_mu  Expnt\n",
    "\n",
    "    def find_index(x_list):\n",
    "        index_list = []\n",
    "        for i in range(len(x_list)):\n",
    "            if x_list[i] < 0:\n",
    "                index_list.append(i)\n",
    "        return index_list\n",
    "\n",
    "    z = find_index(diffw)\n",
    "    if len(z) > 0:\n",
    "        # 用估计出来的噪声信号表示下限值\n",
    "        sub_speech[z] = beta  noise_mu[z]  Expnt\n",
    "        \n",
    "    # 更新噪声的估计\n",
    "    if SNRseg < Thres: \n",
    "        noise_temp = G  noise_mu  Expnt + (1 - G)  sig  Expnt  # 平滑处理噪声功率谱\n",
    "        noise_mu = noise_temp  (1 / Expnt)  # 新的噪声幅度谱\n",
    "    # flipud函数实现矩阵的上下翻转，是以矩阵的“水平中线”为对称轴\n",
    "    # 交换上下对称元素\n",
    "    sub_speech[nFFT // 2 + 1:nFFT] = np.flipud(sub_speech[1:nFFT // 2])\n",
    "    x_phase = (sub_speech  (1 / Expnt))  (np.array([math.cos(x) for x in theta]) + img  (np.array([math.sin(x) for x in theta])))\n",
    "    # take the IFFT\n",
    "\n",
    "    xi = np.fft.ifft(x_phase).real\n",
    "    # --- Overlap and add ---------------\n",
    "    xfinal[k-1:k + len2 - 1] = x_old + xi[0:len1]\n",
    "    x_old = xi[0 + len1:len_]\n",
    "    k = k + len2"
   ]
  },
  {
   "cell_type": "code",
   "execution_count": 29,
   "metadata": {},
   "outputs": [
    {
     "name": "stdout",
     "output_type": "stream",
     "text": [
      "(189920,)\n"
     ]
    }
   ],
   "source": [
    "print(xfinal.shape)\n",
    "\n",
    "wave_data = (winGain  xfinal).astype(np.short)"
   ]
  },
  {
   "cell_type": "code",
   "execution_count": 31,
   "metadata": {},
   "outputs": [
    {
     "data": {
      "image/png": "[encoded data removed]",
      "text/plain": [
       "<Figure size 640x480 with 1 Axes>"
      ]
     },
     "metadata": {},
     "output_type": "display_data"
    }
   ],
   "source": [
    "import numpy as np\n",
    "import wave\n",
    "import math\n",
    "import ctypes as ct\n",
    "\n",
    "# 绘制输入音频的时域波形\n",
    "plt.figure()\n",
    "plt.plot(wave_data,c=\"g\")\n",
    "plt.xlabel(\"time(frames)\")\n",
    "plt.ylabel(\"amplitude\")\n",
    "plt.title(\"Enhanced wave\")\n",
    "plt.show()"
   ]
  }
 ],
 "metadata": {
  "kernelspec": {
   "display_name": "deeplearn",
   "language": "python",
   "name": "python3"
  },
  "language_info": {
   "codemirror_mode": {
    "name": "ipython",
    "version": 3
   },
   "file_extension": ".py",
   "mimetype": "text/x-python",
   "name": "python",
   "nbconvert_exporter": "python",
   "pygments_lexer": "ipython3",
   "version": "3.10.13"
  }
 },
 "nbformat": 4,
 "nbformat_minor": 2
}
